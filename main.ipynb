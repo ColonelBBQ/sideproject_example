{
 "cells": [
  {
   "cell_type": "markdown",
   "metadata": {},
   "source": [
    "# Introduction\n",
    "\n",
    "Hello Hiring Team,\n",
    "In an attempt to make a good first impression I decided to simulate what I think is one of the task we will have to deal with in the Data Scientist position at Wise... **Customer Segmentation!**\n",
    "\n",
    "## Dataset Used for this Simulation\n",
    "For this project I will use the \"Bank Customer Segmentation\" from Kaggle **[Link](https://www.kaggle.com/datasets/shivamb/bank-customer-segmentation/data)**. While this dataset may not perfectly mirror Wise’s financial ecosystem, as it deals with transactions instead of transfers, I still belive it can provide a valuable foundation for simulating real-world segmentation challenges!\n",
    "\n",
    "Now, let’s dive in and load the dataset!"
   ]
  },
  {
   "cell_type": "code",
   "execution_count": 1,
   "metadata": {},
   "outputs": [
    {
     "name": "stderr",
     "output_type": "stream",
     "text": [
      "/Users/claudiogiannini/Desktop/Projects/sideproject_example/myenv/lib/python3.13/site-packages/tqdm/auto.py:21: TqdmWarning: IProgress not found. Please update jupyter and ipywidgets. See https://ipywidgets.readthedocs.io/en/stable/user_install.html\n",
      "  from .autonotebook import tqdm as notebook_tqdm\n"
     ]
    }
   ],
   "source": [
    "import kagglehub\n",
    "import pandas as pd\n",
    "import os\n",
    "import matplotlib.pyplot as plt\n",
    "import seaborn as sns\n",
    "from sklearn.preprocessing import StandardScaler\n",
    "from sklearn.cluster import KMeans\n",
    "from sklearn.decomposition import PCA\n"
   ]
  },
  {
   "cell_type": "code",
   "execution_count": 2,
   "metadata": {},
   "outputs": [
    {
     "name": "stdout",
     "output_type": "stream",
     "text": [
      "Path to dataset files: /Users/claudiogiannini/.cache/kagglehub/datasets/shivamb/bank-customer-segmentation/versions/1/bank_transactions.csv\n"
     ]
    }
   ],
   "source": [
    "# Download latest version using kagglehub and add the file path to load the file\n",
    "path = kagglehub.dataset_download(\"shivamb/bank-customer-segmentation\")\n",
    "file_path = os.path.join(path, \"bank_transactions.csv\")\n",
    "\n",
    "# Quick check at the file location\n",
    "print(\"Path to dataset files:\", file_path)\n",
    "\n",
    "# Load the dataframe\n",
    "df = pd.read_csv(file_path)"
   ]
  },
  {
   "cell_type": "markdown",
   "metadata": {},
   "source": [
    "# Exploring Our Dataframe"
   ]
  },
  {
   "cell_type": "code",
   "execution_count": 3,
   "metadata": {},
   "outputs": [
    {
     "name": "stdout",
     "output_type": "stream",
     "text": [
      "<class 'pandas.core.frame.DataFrame'>\n",
      "RangeIndex: 1048567 entries, 0 to 1048566\n",
      "Data columns (total 9 columns):\n",
      " #   Column                   Non-Null Count    Dtype  \n",
      "---  ------                   --------------    -----  \n",
      " 0   TransactionID            1048567 non-null  object \n",
      " 1   CustomerID               1048567 non-null  object \n",
      " 2   CustomerDOB              1045170 non-null  object \n",
      " 3   CustGender               1047467 non-null  object \n",
      " 4   CustLocation             1048416 non-null  object \n",
      " 5   CustAccountBalance       1046198 non-null  float64\n",
      " 6   TransactionDate          1048567 non-null  object \n",
      " 7   TransactionTime          1048567 non-null  int64  \n",
      " 8   TransactionAmount (INR)  1048567 non-null  float64\n",
      "dtypes: float64(2), int64(1), object(6)\n",
      "memory usage: 72.0+ MB\n",
      "None\n"
     ]
    }
   ],
   "source": [
    "print(df.info())"
   ]
  },
  {
   "cell_type": "markdown",
   "metadata": {},
   "source": [
    "For an easier data manipulation and engeneering later one let's change the type for the columns CustomerDOB and TransactionDate and turn it into datetime. This will simplify the creation of future possible columns like age for our analysis!"
   ]
  },
  {
   "cell_type": "code",
   "execution_count": 4,
   "metadata": {},
   "outputs": [
    {
     "name": "stderr",
     "output_type": "stream",
     "text": [
      "/var/folders/z1/_f1dgn9d3vg65st2m_lw8_3c0000gn/T/ipykernel_24614/1723614549.py:2: UserWarning: Could not infer format, so each element will be parsed individually, falling back to `dateutil`. To ensure parsing is consistent and as-expected, please specify a format.\n",
      "  df[\"TransactionDate\"] = pd.to_datetime(df[\"TransactionDate\"])\n",
      "/var/folders/z1/_f1dgn9d3vg65st2m_lw8_3c0000gn/T/ipykernel_24614/1723614549.py:3: UserWarning: Could not infer format, so each element will be parsed individually, falling back to `dateutil`. To ensure parsing is consistent and as-expected, please specify a format.\n",
      "  df[\"CustomerDOB\"] = pd.to_datetime(df[\"CustomerDOB\"])\n"
     ]
    },
    {
     "name": "stdout",
     "output_type": "stream",
     "text": [
      "<class 'pandas.core.frame.DataFrame'>\n",
      "RangeIndex: 1048567 entries, 0 to 1048566\n",
      "Data columns (total 9 columns):\n",
      " #   Column                   Non-Null Count    Dtype         \n",
      "---  ------                   --------------    -----         \n",
      " 0   TransactionID            1048567 non-null  object        \n",
      " 1   CustomerID               1048567 non-null  object        \n",
      " 2   CustomerDOB              1045170 non-null  datetime64[ns]\n",
      " 3   CustGender               1047467 non-null  object        \n",
      " 4   CustLocation             1048416 non-null  object        \n",
      " 5   CustAccountBalance       1046198 non-null  float64       \n",
      " 6   TransactionDate          1048567 non-null  datetime64[ns]\n",
      " 7   TransactionTime          1048567 non-null  int64         \n",
      " 8   TransactionAmount (INR)  1048567 non-null  float64       \n",
      "dtypes: datetime64[ns](2), float64(2), int64(1), object(4)\n",
      "memory usage: 72.0+ MB\n",
      "None\n"
     ]
    }
   ],
   "source": [
    "# Convert both columns to datetime format\n",
    "df[\"TransactionDate\"] = pd.to_datetime(df[\"TransactionDate\"])\n",
    "df[\"CustomerDOB\"] = pd.to_datetime(df[\"CustomerDOB\"])\n",
    "print(df.info())"
   ]
  },
  {
   "cell_type": "markdown",
   "metadata": {},
   "source": [
    "### NA Values Handling\n",
    "Great! Now that this is done let's check for NA values!"
   ]
  },
  {
   "cell_type": "code",
   "execution_count": 5,
   "metadata": {},
   "outputs": [
    {
     "name": "stdout",
     "output_type": "stream",
     "text": [
      "TransactionID                 0\n",
      "CustomerID                    0\n",
      "CustomerDOB                3397\n",
      "CustGender                 1100\n",
      "CustLocation                151\n",
      "CustAccountBalance         2369\n",
      "TransactionDate               0\n",
      "TransactionTime               0\n",
      "TransactionAmount (INR)       0\n",
      "dtype: int64\n"
     ]
    }
   ],
   "source": [
    "missing_values = df.isna().sum()\n",
    "print(missing_values)"
   ]
  },
  {
   "cell_type": "markdown",
   "metadata": {},
   "source": [
    "So we have the CustomerDOB has 3397 NA values, CustGender has 1100, CustLocation has 151 and CustAccountBalance 2369. Since we talking about 1048567 these row can directly be dropped instead of imputed. But before doing so let's check if any CustAccountBalance = 0 exists. This is because the bank for some reason might record them as NA. If that's the case (No CustAccountBalance = 0 exists) we might decide to replace the NA with 0. "
   ]
  },
  {
   "cell_type": "code",
   "execution_count": 6,
   "metadata": {},
   "outputs": [
    {
     "name": "stdout",
     "output_type": "stream",
     "text": [
      "Number of customers with 0 account balance: 2711\n"
     ]
    }
   ],
   "source": [
    "zero_balance_count = (df[\"CustAccountBalance\"] == 0).sum()\n",
    "print(f\"Number of customers with 0 account balance: {zero_balance_count}\")"
   ]
  },
  {
   "cell_type": "markdown",
   "metadata": {},
   "source": [
    "So that was not the case and the NA is due to a mistake, so we will drop all the NA in the df"
   ]
  },
  {
   "cell_type": "code",
   "execution_count": 7,
   "metadata": {},
   "outputs": [
    {
     "name": "stdout",
     "output_type": "stream",
     "text": [
      "Number of rows: 1048567\n",
      "Number of rows: 1041614\n",
      "NA Rate: 0.66%\n"
     ]
    }
   ],
   "source": [
    "# Drop rows where any of the specified columns have NA values\n",
    "df_cleaned = df.dropna(subset=[\"CustomerDOB\", \"CustGender\", \"CustLocation\", \"CustAccountBalance\"])\n",
    "\n",
    "print(f\"Number of rows: {len(df)}\")\n",
    "print(f\"Number of rows: {len(df_cleaned)}\")\n",
    "\n",
    "na_rate = (len(df) - len(df_cleaned)) / len(df)\n",
    "print(f\"NA Rate: {na_rate:.2%}\")"
   ]
  },
  {
   "cell_type": "markdown",
   "metadata": {},
   "source": [
    "Since the number of missing values was very small, I saw no strong reason to apply imputation. Additionally, the nature of the data didn’t lend itself well to reliable imputations—for example, account balances and dates of birth are not values that can be easily inferred using mean or median replacements. Instead, I opted to drop the missing values to maintain data integrity."
   ]
  },
  {
   "cell_type": "markdown",
   "metadata": {},
   "source": [
    "### Last Check to Our Dataset\n",
    "Now let's look at our df_cleaned to check for any othe anomaly"
   ]
  },
  {
   "cell_type": "code",
   "execution_count": 8,
   "metadata": {},
   "outputs": [
    {
     "data": {
      "text/html": [
       "<div>\n",
       "<style scoped>\n",
       "    .dataframe tbody tr th:only-of-type {\n",
       "        vertical-align: middle;\n",
       "    }\n",
       "\n",
       "    .dataframe tbody tr th {\n",
       "        vertical-align: top;\n",
       "    }\n",
       "\n",
       "    .dataframe thead th {\n",
       "        text-align: right;\n",
       "    }\n",
       "</style>\n",
       "<table border=\"1\" class=\"dataframe\">\n",
       "  <thead>\n",
       "    <tr style=\"text-align: right;\">\n",
       "      <th></th>\n",
       "      <th>CustomerDOB</th>\n",
       "      <th>CustAccountBalance</th>\n",
       "      <th>TransactionDate</th>\n",
       "      <th>TransactionTime</th>\n",
       "      <th>TransactionAmount (INR)</th>\n",
       "    </tr>\n",
       "  </thead>\n",
       "  <tbody>\n",
       "    <tr>\n",
       "      <th>count</th>\n",
       "      <td>1041614</td>\n",
       "      <td>1.041614e+06</td>\n",
       "      <td>1041614</td>\n",
       "      <td>1.041614e+06</td>\n",
       "      <td>1.041614e+06</td>\n",
       "    </tr>\n",
       "    <tr>\n",
       "      <th>mean</th>\n",
       "      <td>1985-07-03 08:17:32.308436800</td>\n",
       "      <td>1.149986e+05</td>\n",
       "      <td>2016-07-25 19:23:05.559718400</td>\n",
       "      <td>1.571221e+05</td>\n",
       "      <td>1.566096e+03</td>\n",
       "    </tr>\n",
       "    <tr>\n",
       "      <th>min</th>\n",
       "      <td>1800-01-01 00:00:00</td>\n",
       "      <td>0.000000e+00</td>\n",
       "      <td>2016-01-08 00:00:00</td>\n",
       "      <td>0.000000e+00</td>\n",
       "      <td>0.000000e+00</td>\n",
       "    </tr>\n",
       "    <tr>\n",
       "      <th>25%</th>\n",
       "      <td>1983-12-08 00:00:00</td>\n",
       "      <td>4.728140e+03</td>\n",
       "      <td>2016-06-09 00:00:00</td>\n",
       "      <td>1.240410e+05</td>\n",
       "      <td>1.600000e+02</td>\n",
       "    </tr>\n",
       "    <tr>\n",
       "      <th>50%</th>\n",
       "      <td>1988-12-13 00:00:00</td>\n",
       "      <td>1.676852e+04</td>\n",
       "      <td>2016-08-20 00:00:00</td>\n",
       "      <td>1.642470e+05</td>\n",
       "      <td>4.575000e+02</td>\n",
       "    </tr>\n",
       "    <tr>\n",
       "      <th>75%</th>\n",
       "      <td>1992-08-22 00:00:00</td>\n",
       "      <td>5.742885e+04</td>\n",
       "      <td>2016-09-09 00:00:00</td>\n",
       "      <td>2.000220e+05</td>\n",
       "      <td>1.200000e+03</td>\n",
       "    </tr>\n",
       "    <tr>\n",
       "      <th>max</th>\n",
       "      <td>2074-12-31 00:00:00</td>\n",
       "      <td>1.150355e+08</td>\n",
       "      <td>2016-12-09 00:00:00</td>\n",
       "      <td>2.359590e+05</td>\n",
       "      <td>1.560035e+06</td>\n",
       "    </tr>\n",
       "    <tr>\n",
       "      <th>std</th>\n",
       "      <td>NaN</td>\n",
       "      <td>8.467609e+05</td>\n",
       "      <td>NaN</td>\n",
       "      <td>5.126352e+04</td>\n",
       "      <td>6.561464e+03</td>\n",
       "    </tr>\n",
       "  </tbody>\n",
       "</table>\n",
       "</div>"
      ],
      "text/plain": [
       "                         CustomerDOB  CustAccountBalance  \\\n",
       "count                        1041614        1.041614e+06   \n",
       "mean   1985-07-03 08:17:32.308436800        1.149986e+05   \n",
       "min              1800-01-01 00:00:00        0.000000e+00   \n",
       "25%              1983-12-08 00:00:00        4.728140e+03   \n",
       "50%              1988-12-13 00:00:00        1.676852e+04   \n",
       "75%              1992-08-22 00:00:00        5.742885e+04   \n",
       "max              2074-12-31 00:00:00        1.150355e+08   \n",
       "std                              NaN        8.467609e+05   \n",
       "\n",
       "                     TransactionDate  TransactionTime  TransactionAmount (INR)  \n",
       "count                        1041614     1.041614e+06             1.041614e+06  \n",
       "mean   2016-07-25 19:23:05.559718400     1.571221e+05             1.566096e+03  \n",
       "min              2016-01-08 00:00:00     0.000000e+00             0.000000e+00  \n",
       "25%              2016-06-09 00:00:00     1.240410e+05             1.600000e+02  \n",
       "50%              2016-08-20 00:00:00     1.642470e+05             4.575000e+02  \n",
       "75%              2016-09-09 00:00:00     2.000220e+05             1.200000e+03  \n",
       "max              2016-12-09 00:00:00     2.359590e+05             1.560035e+06  \n",
       "std                              NaN     5.126352e+04             6.561464e+03  "
      ]
     },
     "execution_count": 8,
     "metadata": {},
     "output_type": "execute_result"
    }
   ],
   "source": [
    "df_cleaned.describe()"
   ]
  },
  {
   "cell_type": "markdown",
   "metadata": {},
   "source": [
    "Not so good... for CustomerDOB we have people born into the future and people born in the early 800s. A better approach would definetly be to investigate into why this is happening but since we have no way to retrieve this information I am afraid that the only thing we can do is to cut the unrealistic (or impossible in case of people born into the future ahah) values. To do so we will consider as the date in which the analysis occured the maximum transaction date, which is also the latest date available in our record (This will also be used later one)"
   ]
  },
  {
   "cell_type": "code",
   "execution_count": 9,
   "metadata": {},
   "outputs": [
    {
     "data": {
      "text/html": [
       "<div>\n",
       "<style scoped>\n",
       "    .dataframe tbody tr th:only-of-type {\n",
       "        vertical-align: middle;\n",
       "    }\n",
       "\n",
       "    .dataframe tbody tr th {\n",
       "        vertical-align: top;\n",
       "    }\n",
       "\n",
       "    .dataframe thead th {\n",
       "        text-align: right;\n",
       "    }\n",
       "</style>\n",
       "<table border=\"1\" class=\"dataframe\">\n",
       "  <thead>\n",
       "    <tr style=\"text-align: right;\">\n",
       "      <th></th>\n",
       "      <th>CustomerDOB</th>\n",
       "      <th>CustAccountBalance</th>\n",
       "      <th>TransactionDate</th>\n",
       "      <th>TransactionTime</th>\n",
       "      <th>TransactionAmount (INR)</th>\n",
       "    </tr>\n",
       "  </thead>\n",
       "  <tbody>\n",
       "    <tr>\n",
       "      <th>count</th>\n",
       "      <td>879861</td>\n",
       "      <td>8.798610e+05</td>\n",
       "      <td>879861</td>\n",
       "      <td>879861.000000</td>\n",
       "      <td>8.798610e+05</td>\n",
       "    </tr>\n",
       "    <tr>\n",
       "      <th>mean</th>\n",
       "      <td>1987-10-09 09:12:29.945275520</td>\n",
       "      <td>7.705016e+04</td>\n",
       "      <td>2016-07-25 08:24:29.915815936</td>\n",
       "      <td>157621.122482</td>\n",
       "      <td>1.270415e+03</td>\n",
       "    </tr>\n",
       "    <tr>\n",
       "      <th>min</th>\n",
       "      <td>1975-01-01 00:00:00</td>\n",
       "      <td>0.000000e+00</td>\n",
       "      <td>2016-01-08 00:00:00</td>\n",
       "      <td>0.000000</td>\n",
       "      <td>0.000000e+00</td>\n",
       "    </tr>\n",
       "    <tr>\n",
       "      <th>25%</th>\n",
       "      <td>1984-05-03 00:00:00</td>\n",
       "      <td>4.207390e+03</td>\n",
       "      <td>2016-06-09 00:00:00</td>\n",
       "      <td>124304.000000</td>\n",
       "      <td>1.460000e+02</td>\n",
       "    </tr>\n",
       "    <tr>\n",
       "      <th>50%</th>\n",
       "      <td>1988-07-26 00:00:00</td>\n",
       "      <td>1.448272e+04</td>\n",
       "      <td>2016-08-20 00:00:00</td>\n",
       "      <td>164957.000000</td>\n",
       "      <td>3.950000e+02</td>\n",
       "    </tr>\n",
       "    <tr>\n",
       "      <th>75%</th>\n",
       "      <td>1991-09-13 00:00:00</td>\n",
       "      <td>4.631625e+04</td>\n",
       "      <td>2016-09-09 00:00:00</td>\n",
       "      <td>200500.000000</td>\n",
       "      <td>1.000000e+03</td>\n",
       "    </tr>\n",
       "    <tr>\n",
       "      <th>max</th>\n",
       "      <td>2000-12-09 00:00:00</td>\n",
       "      <td>4.316556e+07</td>\n",
       "      <td>2016-12-09 00:00:00</td>\n",
       "      <td>235959.000000</td>\n",
       "      <td>1.560035e+06</td>\n",
       "    </tr>\n",
       "    <tr>\n",
       "      <th>std</th>\n",
       "      <td>NaN</td>\n",
       "      <td>3.526216e+05</td>\n",
       "      <td>NaN</td>\n",
       "      <td>51743.395037</td>\n",
       "      <td>5.405121e+03</td>\n",
       "    </tr>\n",
       "  </tbody>\n",
       "</table>\n",
       "</div>"
      ],
      "text/plain": [
       "                         CustomerDOB  CustAccountBalance  \\\n",
       "count                         879861        8.798610e+05   \n",
       "mean   1987-10-09 09:12:29.945275520        7.705016e+04   \n",
       "min              1975-01-01 00:00:00        0.000000e+00   \n",
       "25%              1984-05-03 00:00:00        4.207390e+03   \n",
       "50%              1988-07-26 00:00:00        1.448272e+04   \n",
       "75%              1991-09-13 00:00:00        4.631625e+04   \n",
       "max              2000-12-09 00:00:00        4.316556e+07   \n",
       "std                              NaN        3.526216e+05   \n",
       "\n",
       "                     TransactionDate  TransactionTime  TransactionAmount (INR)  \n",
       "count                         879861    879861.000000             8.798610e+05  \n",
       "mean   2016-07-25 08:24:29.915815936    157621.122482             1.270415e+03  \n",
       "min              2016-01-08 00:00:00         0.000000             0.000000e+00  \n",
       "25%              2016-06-09 00:00:00    124304.000000             1.460000e+02  \n",
       "50%              2016-08-20 00:00:00    164957.000000             3.950000e+02  \n",
       "75%              2016-09-09 00:00:00    200500.000000             1.000000e+03  \n",
       "max              2016-12-09 00:00:00    235959.000000             1.560035e+06  \n",
       "std                              NaN     51743.395037             5.405121e+03  "
      ]
     },
     "execution_count": 9,
     "metadata": {},
     "output_type": "execute_result"
    }
   ],
   "source": [
    "today = df_cleaned[\"TransactionDate\"].max() # Important variable which simulte the day in which the analysis is conducted\n",
    "\n",
    "min_birthdate = today - pd.DateOffset(years=100)\n",
    "max_birthdate = today - pd.DateOffset(years=16)\n",
    "\n",
    "# Filter out unrealistic birthdates\n",
    "df_cleaned = df_cleaned[(df_cleaned[\"CustomerDOB\"] >= min_birthdate) & \n",
    "                         (df_cleaned[\"CustomerDOB\"] <= max_birthdate)]\n",
    "\n",
    "df_cleaned.describe()"
   ]
  },
  {
   "cell_type": "markdown",
   "metadata": {},
   "source": [
    "Great! Noe the dates go from 1975 to 2000 which is a bit more realistic!"
   ]
  },
  {
   "cell_type": "markdown",
   "metadata": {},
   "source": [
    "## Data Visualization\n",
    "### Distribution of Customer Account Balances\n",
    "Let's first check the Account Balances of the customer. What we expect to see in this type of datat is a right-skewed distribution, meaning that most customers have low account balances while few have very high account balances."
   ]
  },
  {
   "cell_type": "code",
   "execution_count": 10,
   "metadata": {},
   "outputs": [
    {
     "data": {
      "image/png": "[encoded data removed]",
      "text/plain": [
       "<Figure size 640x480 with 1 Axes>"
      ]
     },
     "metadata": {},
     "output_type": "display_data"
    }
   ],
   "source": [
    "plt.figure()\n",
    "sns.histplot(df_cleaned[\"CustAccountBalance\"], bins=10000)\n",
    "plt.xlim(0, 500000) \n",
    "plt.xlabel(\"Customer Account Balance\")\n",
    "plt.ylabel(\"Count\")\n",
    "plt.title(\"Distribution of Customer Account Balances\")\n",
    "plt.show()"
   ]
  },
  {
   "cell_type": "markdown",
   "metadata": {},
   "source": [
    "This is also the case for our data! This might also influence the analysis later on as subsdividing into classes might also give unbalanced distribution of clusters! There are many other Visualization that could be done for a more in depth analysis but for our example we will limit it to this!"
   ]
  },
  {
   "cell_type": "markdown",
   "metadata": {},
   "source": [
    "# Data Engeneering\n",
    "Now let's focus on modifying our dataset in preparation for our Analysis. Our goal is to transform the dataset into a customer-level view by aggregating transaction data.\n",
    "\n",
    "We will group by Customer ID and compute the following features:\n",
    "- Age\n",
    "- Count of Transaction IDs\n",
    "- Transactions Amount Mean\n",
    "- Transactions Amount Sum\n",
    "- Account Balance Max\n",
    "- Account Balance Min\n",
    "- Account Balance Mean\n",
    "- Most Recent Transaction\n",
    "- Recency\n",
    "\n",
    "\n"
   ]
  },
  {
   "cell_type": "code",
   "execution_count": 11,
   "metadata": {},
   "outputs": [],
   "source": [
    "# Compute Age of customer\n",
    "df_cleaned[\"Age\"] = (today - df_cleaned[\"CustomerDOB\"]).dt.days // 365\n",
    "\n",
    "customer_group = df_cleaned.groupby(\"CustomerID\").agg(\n",
    "    Age=(\"Age\", \"max\"),  \n",
    "    TransactionCount=(\"TransactionID\", \"count\"),\n",
    "    TransactionAmountMean=(\"TransactionAmount (INR)\", \"mean\"),\n",
    "    TransactionAmountSum=(\"TransactionAmount (INR)\", \"sum\"),\n",
    "    AccountBalanceMax=(\"CustAccountBalance\", \"max\"),\n",
    "    AccountBalanceMin=(\"CustAccountBalance\", \"min\"),\n",
    "    AccountBalanceMean=(\"CustAccountBalance\", \"mean\"),\n",
    "    LastTransactionDate=(\"TransactionDate\", \"max\")\n",
    ").reset_index()\n",
    "\n",
    "# Compute 'Recency' (days since last transaction)\n",
    "customer_group[\"Recency\"] = (today - customer_group[\"LastTransactionDate\"]).dt.days\n"
   ]
  },
  {
   "cell_type": "code",
   "execution_count": 12,
   "metadata": {},
   "outputs": [
    {
     "name": "stdout",
     "output_type": "stream",
     "text": [
      "                 Age  TransactionCount  TransactionAmountMean  \\\n",
      "count  761481.000000     761481.000000           7.614810e+05   \n",
      "mean       29.111816          1.155460           1.271465e+03   \n",
      "min        16.000000          1.000000           0.000000e+00   \n",
      "25%        25.000000          1.000000           1.600000e+02   \n",
      "50%        28.000000          1.000000           4.200000e+02   \n",
      "75%        33.000000          1.000000           1.041360e+03   \n",
      "max        41.000000          6.000000           1.560035e+06   \n",
      "std         5.200817          0.409346           5.361700e+03   \n",
      "\n",
      "       TransactionAmountSum  AccountBalanceMax  AccountBalanceMin  \\\n",
      "count          7.614810e+05       7.614810e+05       7.614810e+05   \n",
      "mean           1.467914e+03       8.652068e+04       6.804308e+04   \n",
      "min            0.000000e+00       0.000000e+00       0.000000e+00   \n",
      "25%            1.750000e+02       5.069190e+03       3.417070e+03   \n",
      "50%            4.870000e+02       1.698716e+04       1.245807e+04   \n",
      "75%            1.244000e+03       5.404472e+04       3.956587e+04   \n",
      "max            1.560035e+06       4.316556e+07       2.797959e+07   \n",
      "std            5.833649e+03       3.774746e+05       3.211357e+05   \n",
      "\n",
      "       AccountBalanceMean            LastTransactionDate        Recency  \n",
      "count        7.614810e+05                         761481  761481.000000  \n",
      "mean         7.689754e+04  2016-07-31 16:42:41.089246208     130.303691  \n",
      "min          0.000000e+00            2016-01-08 00:00:00       0.000000  \n",
      "25%          4.850120e+03            2016-07-08 00:00:00      86.000000  \n",
      "50%          1.579791e+04            2016-08-21 00:00:00     110.000000  \n",
      "75%          4.865498e+04            2016-09-14 00:00:00     154.000000  \n",
      "max          2.797959e+07            2016-12-09 00:00:00     336.000000  \n",
      "std          3.345355e+05                            NaN      80.752260  \n"
     ]
    }
   ],
   "source": [
    "print(customer_group.describe())"
   ]
  },
  {
   "cell_type": "markdown",
   "metadata": {},
   "source": [
    "Lastly we use StandardScaler to ensure that all features have the same scale and contribute equally to clusering"
   ]
  },
  {
   "cell_type": "code",
   "execution_count": 13,
   "metadata": {},
   "outputs": [],
   "source": [
    "features = [\"Age\", \"TransactionCount\", \"TransactionAmountSum\", \"TransactionAmountMean\", \n",
    "            \"AccountBalanceMean\", \"AccountBalanceMax\", \"AccountBalanceMin\", \"Recency\"]\n",
    "\n",
    "# Standardize the data using StandardScaler()\n",
    "scaler = StandardScaler()\n",
    "X_scaled = scaler.fit_transform(customer_group[features])"
   ]
  },
  {
   "cell_type": "markdown",
   "metadata": {},
   "source": [
    "# Analysis\n",
    "Fantstic so we are now ready for our analysis. We use the Elbow Method to determine the optimal number of clusters (K) for K-Means clustering. By iterating over different values of K (from 2 to 30) and computing the inertia. Then we identifyt the elbow point where adding more clusters results in diminishing improvements"
   ]
  },
  {
   "cell_type": "code",
   "execution_count": 14,
   "metadata": {},
   "outputs": [
    {
     "data": {
      "image/png": "[encoded data removed]",
      "text/plain": [
       "<Figure size 800x500 with 1 Axes>"
      ]
     },
     "metadata": {},
     "output_type": "display_data"
    }
   ],
   "source": [
    "# Try different K values and check inertia from K=2 to K=30\n",
    "inertia = []\n",
    "K_range = range(2, 30)\n",
    "\n",
    "for k in K_range:\n",
    "    kmeans = KMeans(n_clusters=k, random_state=42, n_init=10)\n",
    "    kmeans.fit(X_scaled)\n",
    "    inertia.append(kmeans.inertia_)\n",
    "\n",
    "# Plot Elbow Method\n",
    "plt.figure(figsize=(8, 5))\n",
    "plt.plot(K_range, inertia, marker=\"o\", linestyle=\"--\")\n",
    "plt.xlabel(\"Number of Clusters (K)\")\n",
    "plt.ylabel(\"Inertia\")\n",
    "plt.title(\"Elbow Method for Optimal K\")\n",
    "plt.show()"
   ]
  },
  {
   "cell_type": "markdown",
   "metadata": {},
   "source": [
    "Great! So we identify this point to be a K=8. Now we fit the model on the standardized data (X_scaled) and assign each customer to a cluster using kmeans.fit_predict(). This results in a new column, “Cluster”, in our dataset, indicating each customer’s assigned group. Finally, we check the distribution of customers across clusters using value_counts(), which helps us understand how many customers belong to each segment."
   ]
  },
  {
   "cell_type": "code",
   "execution_count": 15,
   "metadata": {},
   "outputs": [
    {
     "name": "stdout",
     "output_type": "stream",
     "text": [
      "Cluster\n",
      "0    325913\n",
      "7    176977\n",
      "1    139664\n",
      "4    103214\n",
      "5     10604\n",
      "6      4335\n",
      "3       760\n",
      "2        14\n",
      "Name: count, dtype: int64\n"
     ]
    }
   ],
   "source": [
    "kmeans = KMeans(n_clusters=8, random_state=42, n_init=10)\n",
    "customer_group[\"Cluster\"] = kmeans.fit_predict(X_scaled)\n",
    "\n",
    "# Check how many customers per cluster\n",
    "print(customer_group[\"Cluster\"].value_counts())"
   ]
  },
  {
   "cell_type": "markdown",
   "metadata": {},
   "source": [
    "This is a highly unbalanced but I believe that it's normal due to the high skeweness of this type of financial data like we show in the Data Visualization section\n",
    "\n",
    "## Results\n",
    "In this section, we analyze the characteristics of each cluster by computing the mean values of key numerical features. This helps us interpret the distinct profiles of customer segments based on attributes such as transaction behavior, account balance, and recency. Additionally, we apply Principal Component Analysis (PCA) to reduce the high-dimensional feature space to two components for visualization. The scatter plot provides an overview of how clusters are distributed in lower-dimensional space, offering insights into their separability and structure. While some clusters appear well-defined, others may have overlapping characteristics, suggesting potential areas for further refinement."
   ]
  },
  {
   "cell_type": "code",
   "execution_count": 16,
   "metadata": {},
   "outputs": [
    {
     "data": {
      "text/html": [
       "<div>\n",
       "<style scoped>\n",
       "    .dataframe tbody tr th:only-of-type {\n",
       "        vertical-align: middle;\n",
       "    }\n",
       "\n",
       "    .dataframe tbody tr th {\n",
       "        vertical-align: top;\n",
       "    }\n",
       "\n",
       "    .dataframe thead th {\n",
       "        text-align: right;\n",
       "    }\n",
       "</style>\n",
       "<table border=\"1\" class=\"dataframe\">\n",
       "  <thead>\n",
       "    <tr style=\"text-align: right;\">\n",
       "      <th></th>\n",
       "      <th>Age</th>\n",
       "      <th>TransactionCount</th>\n",
       "      <th>TransactionAmountMean</th>\n",
       "      <th>TransactionAmountSum</th>\n",
       "      <th>AccountBalanceMax</th>\n",
       "      <th>AccountBalanceMin</th>\n",
       "      <th>AccountBalanceMean</th>\n",
       "      <th>Recency</th>\n",
       "      <th>Cluster</th>\n",
       "    </tr>\n",
       "    <tr>\n",
       "      <th>Cluster</th>\n",
       "      <th></th>\n",
       "      <th></th>\n",
       "      <th></th>\n",
       "      <th></th>\n",
       "      <th></th>\n",
       "      <th></th>\n",
       "      <th></th>\n",
       "      <th></th>\n",
       "      <th></th>\n",
       "    </tr>\n",
       "  </thead>\n",
       "  <tbody>\n",
       "    <tr>\n",
       "      <th>0</th>\n",
       "      <td>25.488311</td>\n",
       "      <td>1.000000</td>\n",
       "      <td>757.749250</td>\n",
       "      <td>757.749250</td>\n",
       "      <td>3.441833e+04</td>\n",
       "      <td>3.441833e+04</td>\n",
       "      <td>3.441833e+04</td>\n",
       "      <td>97.102024</td>\n",
       "      <td>0.0</td>\n",
       "    </tr>\n",
       "    <tr>\n",
       "      <th>1</th>\n",
       "      <td>28.218933</td>\n",
       "      <td>1.005098</td>\n",
       "      <td>1017.504464</td>\n",
       "      <td>1022.030650</td>\n",
       "      <td>4.412579e+04</td>\n",
       "      <td>4.385477e+04</td>\n",
       "      <td>4.399028e+04</td>\n",
       "      <td>272.319911</td>\n",
       "      <td>1.0</td>\n",
       "    </tr>\n",
       "    <tr>\n",
       "      <th>2</th>\n",
       "      <td>33.642857</td>\n",
       "      <td>1.000000</td>\n",
       "      <td>699217.491429</td>\n",
       "      <td>699217.491429</td>\n",
       "      <td>1.668494e+05</td>\n",
       "      <td>1.668494e+05</td>\n",
       "      <td>1.668494e+05</td>\n",
       "      <td>115.714286</td>\n",
       "      <td>2.0</td>\n",
       "    </tr>\n",
       "    <tr>\n",
       "      <th>3</th>\n",
       "      <td>33.482895</td>\n",
       "      <td>1.056579</td>\n",
       "      <td>5051.148779</td>\n",
       "      <td>5252.363316</td>\n",
       "      <td>7.873430e+06</td>\n",
       "      <td>7.093484e+06</td>\n",
       "      <td>7.467467e+06</td>\n",
       "      <td>137.072368</td>\n",
       "      <td>3.0</td>\n",
       "    </tr>\n",
       "    <tr>\n",
       "      <th>4</th>\n",
       "      <td>31.744860</td>\n",
       "      <td>2.120778</td>\n",
       "      <td>1071.806619</td>\n",
       "      <td>2275.115685</td>\n",
       "      <td>1.092036e+05</td>\n",
       "      <td>1.313702e+04</td>\n",
       "      <td>5.916471e+04</td>\n",
       "      <td>89.463251</td>\n",
       "      <td>4.0</td>\n",
       "    </tr>\n",
       "    <tr>\n",
       "      <th>5</th>\n",
       "      <td>33.107224</td>\n",
       "      <td>1.107978</td>\n",
       "      <td>2300.380642</td>\n",
       "      <td>2518.137266</td>\n",
       "      <td>1.595435e+06</td>\n",
       "      <td>1.281278e+06</td>\n",
       "      <td>1.431995e+06</td>\n",
       "      <td>127.682667</td>\n",
       "      <td>5.0</td>\n",
       "    </tr>\n",
       "    <tr>\n",
       "      <th>6</th>\n",
       "      <td>30.983852</td>\n",
       "      <td>1.184544</td>\n",
       "      <td>41298.217605</td>\n",
       "      <td>46442.429315</td>\n",
       "      <td>2.008116e+05</td>\n",
       "      <td>1.562928e+05</td>\n",
       "      <td>1.771558e+05</td>\n",
       "      <td>129.922491</td>\n",
       "      <td>6.0</td>\n",
       "    </tr>\n",
       "    <tr>\n",
       "      <th>7</th>\n",
       "      <td>34.649350</td>\n",
       "      <td>1.000000</td>\n",
       "      <td>1420.821532</td>\n",
       "      <td>1420.821532</td>\n",
       "      <td>7.604205e+04</td>\n",
       "      <td>7.604205e+04</td>\n",
       "      <td>7.604205e+04</td>\n",
       "      <td>103.329071</td>\n",
       "      <td>7.0</td>\n",
       "    </tr>\n",
       "  </tbody>\n",
       "</table>\n",
       "</div>"
      ],
      "text/plain": [
       "               Age  TransactionCount  TransactionAmountMean  \\\n",
       "Cluster                                                       \n",
       "0        25.488311          1.000000             757.749250   \n",
       "1        28.218933          1.005098            1017.504464   \n",
       "2        33.642857          1.000000          699217.491429   \n",
       "3        33.482895          1.056579            5051.148779   \n",
       "4        31.744860          2.120778            1071.806619   \n",
       "5        33.107224          1.107978            2300.380642   \n",
       "6        30.983852          1.184544           41298.217605   \n",
       "7        34.649350          1.000000            1420.821532   \n",
       "\n",
       "         TransactionAmountSum  AccountBalanceMax  AccountBalanceMin  \\\n",
       "Cluster                                                               \n",
       "0                  757.749250       3.441833e+04       3.441833e+04   \n",
       "1                 1022.030650       4.412579e+04       4.385477e+04   \n",
       "2               699217.491429       1.668494e+05       1.668494e+05   \n",
       "3                 5252.363316       7.873430e+06       7.093484e+06   \n",
       "4                 2275.115685       1.092036e+05       1.313702e+04   \n",
       "5                 2518.137266       1.595435e+06       1.281278e+06   \n",
       "6                46442.429315       2.008116e+05       1.562928e+05   \n",
       "7                 1420.821532       7.604205e+04       7.604205e+04   \n",
       "\n",
       "         AccountBalanceMean     Recency  Cluster  \n",
       "Cluster                                           \n",
       "0              3.441833e+04   97.102024      0.0  \n",
       "1              4.399028e+04  272.319911      1.0  \n",
       "2              1.668494e+05  115.714286      2.0  \n",
       "3              7.467467e+06  137.072368      3.0  \n",
       "4              5.916471e+04   89.463251      4.0  \n",
       "5              1.431995e+06  127.682667      5.0  \n",
       "6              1.771558e+05  129.922491      6.0  \n",
       "7              7.604205e+04  103.329071      7.0  "
      ]
     },
     "execution_count": 16,
     "metadata": {},
     "output_type": "execute_result"
    }
   ],
   "source": [
    "numeric_cols = customer_group.select_dtypes(include=['number']).columns\n",
    "customer_group.groupby(\"Cluster\")[numeric_cols].mean()"
   ]
  },
  {
   "cell_type": "code",
   "execution_count": 17,
   "metadata": {},
   "outputs": [
    {
     "data": {
      "image/png": "[encoded data removed]",
      "text/plain": [
       "<Figure size 800x600 with 1 Axes>"
      ]
     },
     "metadata": {},
     "output_type": "display_data"
    }
   ],
   "source": [
    "pca = PCA(n_components=2)\n",
    "X_pca = pca.fit_transform(X_scaled)\n",
    "\n",
    "plt.figure(figsize=(8, 6))\n",
    "sns.scatterplot(x=X_pca[:, 0], y=X_pca[:, 1], hue=customer_group[\"Cluster\"], palette=\"tab10\", alpha=0.5)\n",
    "plt.xlabel(\"PCA Component 1\")\n",
    "plt.ylabel(\"PCA Component 2\")\n",
    "plt.title(\"Customer Segments (PCA)\")\n",
    "plt.legend()\n",
    "plt.show()"
   ]
  },
  {
   "cell_type": "markdown",
   "metadata": {},
   "source": [
    "## Cluster Identification\n",
    "### Cluster 3 & 5 - High Net Worth Individuals (HNWIs)\n",
    "- Both have high account balances.  \n",
    "- Key difference:  \n",
    "  - Cluster 3 has very high transaction amounts, possibly business owners, investors, or high spenders.  \n",
    "  - Cluster 5 has lower transaction amounts but still high balances, which could indicate they use the bank primarily for savings or investments.  \n",
    "- Cluster 3 actively moves money, while Cluster 5 might store funds and use them occasionally.  \n",
    "\n",
    "### Cluster 6 - High Balance & High Transactions\n",
    "- Higher than average account balance and transaction amount.  \n",
    "- This group could represent affluent individuals who actively use this bank for large transactions or business owners making frequent payments.  \n",
    "\n",
    "### Cluster 2 - Small Group, Super High Transactions\n",
    "- Only 14 members but extremely high transaction amounts.  \n",
    "- This could indicate corporate accounts or very wealthy individuals making large transactions.  \n",
    "- Possibly a group of businesses or VIP customers with significant cash flow.  \n",
    "\n",
    "### Cluster 0 - Young, Frequent Users, Low Balance & Transaction Amount\n",
    "- Younger customers (average age 25) with low balances and low transaction amounts.  \n",
    "- Frequent users with low recency.  \n",
    "- Likely daily banking users, such as students or young professionals without significant savings.  \n",
    "\n",
    "### Cluster 7 - Older Version of Cluster 1\n",
    "- Similar to Cluster 1 but older.  \n",
    "- More financially stable due to age.  \n",
    "- Likely includes retired professionals or low-activity older customers.  \n",
    "\n",
    "### Cluster 1 - Sporadic, Older Users\n",
    "- Older than Cluster 0.  \n",
    "- Higher balance and transaction amounts but less frequent usage.  \n",
    "- Possibly occasional users who primarily save rather than transact frequently.  \n",
    "\n",
    "### Cluster 4 - Frequent Users, Moderate-High Income\n",
    "- Low recency, indicating active users.  \n",
    "- Higher balances than Clusters 0 and 1.  \n",
    "- More frequent use of transactions.  \n",
    "- Likely includes middle-class professionals using the bank for daily transactions and salary deposits.  \n"
   ]
  },
  {
   "cell_type": "markdown",
   "metadata": {},
   "source": []
  }
 ],
 "metadata": {
  "language_info": {
   "name": "python"
  }
 },
 "nbformat": 4,
 "nbformat_minor": 2
}
